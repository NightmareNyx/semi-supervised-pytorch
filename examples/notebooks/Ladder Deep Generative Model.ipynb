{
 "cells": [
  {
   "cell_type": "code",
   "execution_count": 61,
   "metadata": {
    "code_folding": [
     0
    ]
   },
   "outputs": [],
   "source": [
    "# Imports\n",
    "import torch\n",
    "import torch.nn.functional as F\n",
    "cuda = torch.cuda.is_available()\n",
    "from torch.autograd import Variable\n",
    "import numpy as np\n",
    "import matplotlib.pyplot as plt\n",
    "%matplotlib inline\n",
    "import sys\n",
    "sys.path.append(\"../../semi-supervised\")"
   ]
  },
  {
   "cell_type": "code",
   "execution_count": 62,
   "metadata": {},
   "outputs": [],
   "source": [
    "USE_CUDA = True\n",
    "device = 'cuda:0' if torch.cuda.is_available() and USE_CUDA else 'cpu'"
   ]
  },
  {
   "cell_type": "markdown",
   "metadata": {},
   "source": [
    "# Ladder Deep Generative Model\n",
    "\n",
    "The final model we present is the ladder deep generative model which combines the idea of the ladder variational auto encoder with the deep generative model. It therefore learns a hierarchical relationship of latent variables and therefore has many of the properties of standard ladder VAEs such as strong generative performance and good disentanglement. The model below shows a three layer LadderDGM, but the number of stochastic layer can be arbitrary.\n",
    "\n",
    "<img src=\"../images/ladderdgm.png\" width=\"400px\"/>\n",
    "\n",
    "This model serves as an example of what you can do with the tools provided this library to create new and novel models."
   ]
  },
  {
   "cell_type": "code",
   "execution_count": 91,
   "metadata": {},
   "outputs": [
    {
     "data": {
      "text/plain": [
       "LadderDeepGenerativeModel(\n",
       "  (encoder): ModuleList(\n",
       "    (0): LadderEncoder(\n",
       "      (linear): Linear(in_features=784, out_features=256, bias=True)\n",
       "      (batchnorm): BatchNorm1d(256, eps=1e-05, momentum=0.1, affine=True, track_running_stats=True)\n",
       "      (sample): GaussianSample(\n",
       "        (mu): Linear(in_features=256, out_features=128, bias=True)\n",
       "        (log_var): Linear(in_features=256, out_features=128, bias=True)\n",
       "      )\n",
       "    )\n",
       "    (1): LadderEncoder(\n",
       "      (linear): Linear(in_features=256, out_features=128, bias=True)\n",
       "      (batchnorm): BatchNorm1d(128, eps=1e-05, momentum=0.1, affine=True, track_running_stats=True)\n",
       "      (sample): GaussianSample(\n",
       "        (mu): Linear(in_features=128, out_features=64, bias=True)\n",
       "        (log_var): Linear(in_features=128, out_features=64, bias=True)\n",
       "      )\n",
       "    )\n",
       "    (2): LadderEncoder(\n",
       "      (linear): Linear(in_features=138, out_features=64, bias=True)\n",
       "      (batchnorm): BatchNorm1d(64, eps=1e-05, momentum=0.1, affine=True, track_running_stats=True)\n",
       "      (sample): GaussianSample(\n",
       "        (mu): Linear(in_features=64, out_features=32, bias=True)\n",
       "        (log_var): Linear(in_features=64, out_features=32, bias=True)\n",
       "      )\n",
       "    )\n",
       "  )\n",
       "  (decoder): ModuleList(\n",
       "    (0): LadderDecoder(\n",
       "      (linear1): Linear(in_features=32, out_features=128, bias=True)\n",
       "      (batchnorm1): BatchNorm1d(128, eps=1e-05, momentum=0.1, affine=True, track_running_stats=True)\n",
       "      (merge): GaussianMerge(\n",
       "        (mu): Linear(in_features=128, out_features=64, bias=True)\n",
       "        (log_var): Linear(in_features=128, out_features=64, bias=True)\n",
       "      )\n",
       "      (linear2): Linear(in_features=32, out_features=128, bias=True)\n",
       "      (batchnorm2): BatchNorm1d(128, eps=1e-05, momentum=0.1, affine=True, track_running_stats=True)\n",
       "      (sample): GaussianSample(\n",
       "        (mu): Linear(in_features=128, out_features=64, bias=True)\n",
       "        (log_var): Linear(in_features=128, out_features=64, bias=True)\n",
       "      )\n",
       "    )\n",
       "    (1): LadderDecoder(\n",
       "      (linear1): Linear(in_features=64, out_features=256, bias=True)\n",
       "      (batchnorm1): BatchNorm1d(256, eps=1e-05, momentum=0.1, affine=True, track_running_stats=True)\n",
       "      (merge): GaussianMerge(\n",
       "        (mu): Linear(in_features=256, out_features=128, bias=True)\n",
       "        (log_var): Linear(in_features=256, out_features=128, bias=True)\n",
       "      )\n",
       "      (linear2): Linear(in_features=64, out_features=256, bias=True)\n",
       "      (batchnorm2): BatchNorm1d(256, eps=1e-05, momentum=0.1, affine=True, track_running_stats=True)\n",
       "      (sample): GaussianSample(\n",
       "        (mu): Linear(in_features=256, out_features=128, bias=True)\n",
       "        (log_var): Linear(in_features=256, out_features=128, bias=True)\n",
       "      )\n",
       "    )\n",
       "  )\n",
       "  (classifier): Classifier(\n",
       "    (dense): Linear(in_features=784, out_features=256, bias=True)\n",
       "    (logits): Linear(in_features=256, out_features=10, bias=True)\n",
       "  )\n",
       "  (reconstruction): Decoder(\n",
       "    (hidden): ModuleList(\n",
       "      (0): Linear(in_features=138, out_features=256, bias=True)\n",
       "      (1): Linear(in_features=256, out_features=128, bias=True)\n",
       "      (2): Linear(in_features=128, out_features=64, bias=True)\n",
       "    )\n",
       "    (reconstruction): Linear(in_features=64, out_features=784, bias=True)\n",
       "    (output_activation): Sigmoid()\n",
       "  )\n",
       ")"
      ]
     },
     "execution_count": 91,
     "metadata": {},
     "output_type": "execute_result"
    }
   ],
   "source": [
    "from models import LadderDeepGenerativeModel\n",
    "\n",
    "y_dim = 10\n",
    "z_dim = [128, 64, 32]\n",
    "h_dim = [256, 128, 64]\n",
    "\n",
    "model = LadderDeepGenerativeModel([784, y_dim, z_dim, h_dim]).to(device)\n",
    "model"
   ]
  },
  {
   "cell_type": "markdown",
   "metadata": {},
   "source": [
    "## Training\n",
    "\n",
    "We train the model similarly to the Ladder VAE, but add label information to the lower bound. The final bound is similar to that presented in the \"Deep Generative Model\" notebook. From a programming point of view, the model is trained in exactly the same way as the `DeepGenerativeModel` and the `AuxiliaryDeepGenerativeModel`.\n",
    "\n",
    "This simultanously highlights the power of the library, as it is model agnostic as long as the given model subclasses the `VariationalAutoencoder` class."
   ]
  },
  {
   "cell_type": "code",
   "execution_count": 92,
   "metadata": {},
   "outputs": [],
   "source": [
    "from datautils import get_mnist\n",
    "\n",
    "# Only use 10 labelled examples per class\n",
    "# The rest of the data is unlabelled.\n",
    "labelled, unlabelled, validation = get_mnist(location=\"./\", batch_size=64, labels_per_class=10)\n",
    "alpha = 0.1 * (len(unlabelled) + len(labelled)) / len(labelled)\n",
    "\n",
    "def binary_cross_entropy(r, x):\n",
    "#     return -torch.sum(x * torch.log(r + 1e-8) + (1 - x) * torch.log(1 - r + 1e-8), dim=-1)\n",
    "    return F.binary_cross_entropy(r, x, reduction='none').sum(dim=1)\n",
    "\n",
    "optimizer = torch.optim.Adam(model.parameters(), lr=3e-4, betas=(0.9, 0.999))"
   ]
  },
  {
   "cell_type": "code",
   "execution_count": 93,
   "metadata": {},
   "outputs": [],
   "source": [
    "from itertools import cycle\n",
    "from inference import SVI, DeterministicWarmup\n",
    "\n",
    "# We will need to use warm-up in order to achieve good performance.\n",
    "# Over 200 calls to SVI we change the autoencoder from\n",
    "# deterministic to stochastic.\n",
    "beta = DeterministicWarmup(n=200)\n",
    "\n",
    "elbo = SVI(model, likelihood=binary_cross_entropy, beta=beta)"
   ]
  },
  {
   "cell_type": "markdown",
   "metadata": {},
   "source": [
    "The library is conventially packed with the `SVI` method that does all of the work of calculating the lower bound for both labelled and unlabelled data depending on whether the label is given. It also manages to perform the enumeration of all the labels.\n",
    "\n",
    "Remember that the labels have to be in a *one-hot encoded* format in order to work with SVI."
   ]
  },
  {
   "cell_type": "code",
   "execution_count": 94,
   "metadata": {},
   "outputs": [
    {
     "name": "stdout",
     "output_type": "stream",
     "text": [
      "Epoch: 0\n",
      "[Train]\t\t J_a: 447.45, accuracy: 0.99\n",
      "[Validation]\t J_a: 435.27, accuracy: 0.68\n",
      "Epoch: 1\n",
      "[Train]\t\t J_a: 353.44, accuracy: 1.00\n",
      "[Validation]\t J_a: 423.54, accuracy: 0.70\n",
      "Epoch: 2\n",
      "[Train]\t\t J_a: 324.78, accuracy: 1.00\n",
      "[Validation]\t J_a: 413.80, accuracy: 0.75\n",
      "Epoch: 3\n",
      "[Train]\t\t J_a: 310.11, accuracy: 1.00\n",
      "[Validation]\t J_a: 405.58, accuracy: 0.78\n",
      "Epoch: 4\n",
      "[Train]\t\t J_a: 305.05, accuracy: 1.00\n",
      "[Validation]\t J_a: 412.72, accuracy: 0.78\n",
      "Epoch: 5\n",
      "[Train]\t\t J_a: 298.83, accuracy: 1.00\n",
      "[Validation]\t J_a: 416.36, accuracy: 0.77\n",
      "Epoch: 6\n",
      "[Train]\t\t J_a: 296.17, accuracy: 1.00\n",
      "[Validation]\t J_a: 410.73, accuracy: 0.79\n",
      "Epoch: 7\n",
      "[Train]\t\t J_a: 292.03, accuracy: 1.00\n",
      "[Validation]\t J_a: 404.89, accuracy: 0.80\n",
      "Epoch: 8\n",
      "[Train]\t\t J_a: 285.64, accuracy: 1.00\n",
      "[Validation]\t J_a: 407.73, accuracy: 0.80\n",
      "Epoch: 9\n",
      "[Train]\t\t J_a: 282.68, accuracy: 1.00\n",
      "[Validation]\t J_a: 405.40, accuracy: 0.81\n"
     ]
    }
   ],
   "source": [
    "for epoch in range(10):\n",
    "    model.train()\n",
    "    total_loss, accuracy = (0, 0)\n",
    "    for (x, y), (u, _) in zip(cycle(labelled), unlabelled):\n",
    "        # Wrap in variables\n",
    "        x, y, u = Variable(x).to(device), Variable(y).to(device), Variable(u).to(device)\n",
    "            \n",
    "        L = -elbo(x, y)\n",
    "        U = -elbo(u)\n",
    "\n",
    "        # Add auxiliary classification loss q(y|x)\n",
    "        logits = model.classify(x)\n",
    "        \n",
    "        # Regular cross entropy\n",
    "        classification_loss = torch.sum(y * torch.log(logits + 1e-8), dim=1).mean()\n",
    "#         classification_loss = - F.cross_entropy(logits, y.max(dim=1)[1])\n",
    "\n",
    "        J_alpha = L - alpha * classification_loss + U\n",
    "\n",
    "        J_alpha.backward()\n",
    "        optimizer.step()\n",
    "        optimizer.zero_grad()\n",
    "\n",
    "        total_loss += J_alpha.data.item()\n",
    "        accuracy += torch.mean((torch.max(logits, 1)[1].data == torch.max(y, 1)[1].data).float())\n",
    "    \n",
    "    if epoch % 1 == 0:\n",
    "        model.eval()\n",
    "        m = len(unlabelled)\n",
    "        print(\"Epoch: {}\".format(epoch))\n",
    "        print(\"[Train]\\t\\t J_a: {:.2f}, accuracy: {:.2f}\".format(total_loss / m, accuracy / m))\n",
    "\n",
    "        total_loss, accuracy = (0, 0)\n",
    "        for x, y in validation:\n",
    "            x, y = Variable(x).to(device), Variable(y).to(device)\n",
    "\n",
    "            L = -elbo(x, y)\n",
    "            U = -elbo(x)\n",
    "\n",
    "            logits = model.classify(x)\n",
    "            classification_loss = -torch.sum(y * torch.log(logits + 1e-8), dim=1).mean()\n",
    "\n",
    "            J_alpha = L + alpha * classification_loss + U\n",
    "\n",
    "            total_loss += J_alpha.data.item()\n",
    "\n",
    "            _, pred_idx = torch.max(logits, 1)\n",
    "            _, lab_idx = torch.max(y, 1)\n",
    "            accuracy += torch.mean((torch.max(logits, 1)[1].data == torch.max(y, 1)[1].data).float())\n",
    "\n",
    "        m = len(validation)\n",
    "        print(\"[Validation]\\t J_a: {:.2f}, accuracy: {:.2f}\".format(total_loss / m, accuracy / m))"
   ]
  },
  {
   "cell_type": "markdown",
   "metadata": {},
   "source": [
    "## Conditional generation\n",
    "\n",
    "When the model is done training you can generate samples conditionally given some normal distributed noise $z$ and a label $y$.\n",
    "\n",
    "*The model below has only trained for 10 iterations, so the perfomance is not representative*."
   ]
  },
  {
   "cell_type": "code",
   "execution_count": 97,
   "metadata": {
    "scrolled": false
   },
   "outputs": [],
   "source": [
    "from utils import onehot\n",
    "model.eval()\n",
    "\n",
    "z = Variable(torch.randn(16, 32)).to(device)\n",
    "\n",
    "# Generate a batch of 5s\n",
    "y = Variable(onehot(10)(5).repeat(16, 1)).to(device)\n",
    "\n",
    "x_mu = model.sample(z, y)"
   ]
  },
  {
   "cell_type": "code",
   "execution_count": 99,
   "metadata": {},
   "outputs": [
    {
     "data": {
      "image/png": "[encoded data removed]",
      "text/plain": [
       "<Figure size 1296x864 with 16 Axes>"
      ]
     },
     "metadata": {
      "needs_background": "light"
     },
     "output_type": "display_data"
    }
   ],
   "source": [
    "f, axarr = plt.subplots(1, 16, figsize=(18, 12))\n",
    "\n",
    "samples = x_mu.data.view(-1, 28, 28).cpu().numpy()\n",
    "\n",
    "for i, ax in enumerate(axarr.flat):\n",
    "    ax.imshow(samples[i])\n",
    "    ax.axis(\"off\")"
   ]
  },
  {
   "cell_type": "code",
   "execution_count": null,
   "metadata": {},
   "outputs": [],
   "source": []
  }
 ],
 "metadata": {
  "kernelspec": {
   "display_name": "Python 3",
   "language": "python",
   "name": "python3"
  },
  "language_info": {
   "codemirror_mode": {
    "name": "ipython",
    "version": 3
   },
   "file_extension": ".py",
   "mimetype": "text/x-python",
   "name": "python",
   "nbconvert_exporter": "python",
   "pygments_lexer": "ipython3",
   "version": "3.7.1"
  }
 },
 "nbformat": 4,
 "nbformat_minor": 2
}
