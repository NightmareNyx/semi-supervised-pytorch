{
 "cells": [
  {
   "cell_type": "code",
   "execution_count": 1,
   "metadata": {},
   "outputs": [],
   "source": [
    "import numpy as np\n",
    "import pandas as pd\n",
    "import os\n",
    "import csv"
   ]
  },
  {
   "cell_type": "code",
   "execution_count": 2,
   "metadata": {},
   "outputs": [],
   "source": [
    "def read_data(data_file, types_file, miss_file, true_miss_file):\n",
    "    # Read types of data from data file\n",
    "    with open(types_file) as f:\n",
    "        types_dict = [{k: v for k, v in row.items()}\n",
    "                      for row in csv.DictReader(f, skipinitialspace=True)]\n",
    "\n",
    "    # Read data from input file\n",
    "    with open(data_file, 'r') as f:\n",
    "        data = [[float(x) for x in rec] for rec in csv.reader(f, delimiter=',')]\n",
    "        data = np.array(data)\n",
    "    raw_data = data\n",
    "    # Substitute NaN values by something (we assume we have the real missing value mask)\n",
    "    if true_miss_file:\n",
    "        with open(true_miss_file, 'r') as f:\n",
    "            missing_positions = [[int(x) for x in rec] for rec in csv.reader(f, delimiter=',')]\n",
    "            missing_positions = np.array(missing_positions)\n",
    "\n",
    "        true_miss_mask = np.ones([np.shape(data)[0], len(types_dict)])\n",
    "        true_miss_mask[missing_positions[:, 0] - 1, missing_positions[:, 1] - 1] = 0  # Indexes in the csv start at 1\n",
    "        data_masked = np.ma.masked_where(np.isnan(data), data)\n",
    "        # We need to fill the data depending on the given data...\n",
    "        data_filler = []\n",
    "        for i in range(len(types_dict)):\n",
    "            if types_dict[i]['type'] == 'cat' or types_dict[i]['type'] == 'ordinal':\n",
    "                aux = np.unique(data[:, i])\n",
    "                data_filler.append(aux[0])  # Fill with the first element of the cat (0, 1, or whatever)\n",
    "            else:\n",
    "                data_filler.append(0.0)\n",
    "\n",
    "        data = data_masked.filled(data_filler)\n",
    "    else:\n",
    "        true_miss_mask = np.ones([np.shape(data)[0], len(types_dict)])  # It doesn't affect our data\n",
    "\n",
    "    # Construct the data matrices\n",
    "    data_complete = []\n",
    "    for i in range(np.shape(data)[1]):\n",
    "\n",
    "        if types_dict[i]['type'] == 'cat':\n",
    "            # Get categories\n",
    "            cat_data = [int(x) for x in data[:, i]]\n",
    "            categories, indexes = np.unique(cat_data, return_inverse=True)\n",
    "            # Transform categories to a vector of 0:n_categories\n",
    "            new_categories = np.arange(int(types_dict[i]['dim']))\n",
    "            cat_data = new_categories[indexes]\n",
    "            # Create one hot encoding for the categories\n",
    "            aux = np.zeros([np.shape(data)[0], len(new_categories)])\n",
    "            aux[np.arange(np.shape(data)[0]), cat_data] = 1\n",
    "            data_complete.append(aux)\n",
    "\n",
    "        elif types_dict[i]['type'] == 'ordinal':\n",
    "            # Get categories\n",
    "            cat_data = [int(x) for x in data[:, i]]\n",
    "            categories, indexes = np.unique(cat_data, return_inverse=True)\n",
    "            # Transform categories to a vector of 0:n_categories\n",
    "            new_categories = np.arange(int(types_dict[i]['dim']))\n",
    "            cat_data = new_categories[indexes]\n",
    "            # Create thermometer encoding for the categories\n",
    "            aux = np.zeros([np.shape(data)[0], 1 + len(new_categories)])\n",
    "            aux[:, 0] = 1\n",
    "            aux[np.arange(np.shape(data)[0]), 1 + cat_data] = -1\n",
    "            aux = np.cumsum(aux, 1)\n",
    "            data_complete.append(aux[:, :-1])\n",
    "\n",
    "        elif types_dict[i]['type'] == 'count':\n",
    "            if np.min(data[:, i]) == 0:\n",
    "                aux = data[:, i] + 1\n",
    "                data_complete.append(np.transpose([aux]))\n",
    "            else:\n",
    "                data_complete.append(np.transpose([data[:, i]]))\n",
    "\n",
    "\n",
    "\n",
    "        else:\n",
    "            data_complete.append(np.transpose([data[:, i]]))\n",
    "\n",
    "    data = np.concatenate(data_complete, 1)\n",
    "\n",
    "    # Read Missing mask from csv (contains positions of missing values)\n",
    "    n_samples = np.shape(data)[0]\n",
    "    n_variables = len(types_dict)\n",
    "    miss_mask = np.ones([np.shape(data)[0], n_variables])\n",
    "    # If there is no mask, assume all data is observed\n",
    "    if os.path.isfile(miss_file):\n",
    "        with open(miss_file, 'r') as f:\n",
    "            missing_positions = [[int(x) for x in rec] for rec in csv.reader(f, delimiter=',')]\n",
    "            missing_positions = np.array(missing_positions)\n",
    "        miss_mask[missing_positions[:, 0] - 1, missing_positions[:, 1] - 1] = 0  # Indexes in the csv start at 1\n",
    "\n",
    "    return data, types_dict, miss_mask, true_miss_mask, n_samples, raw_data"
   ]
  },
  {
   "cell_type": "code",
   "execution_count": 3,
   "metadata": {},
   "outputs": [],
   "source": [
    "data, types_dict, miss_mask, true_miss_mask, n_samples, raw_data = read_data('data.csv', 'data_types.csv', 'Missing10-50_4.csv', None)"
   ]
  },
  {
   "cell_type": "code",
   "execution_count": 4,
   "metadata": {},
   "outputs": [],
   "source": [
    "df = pd.DataFrame(data)"
   ]
  },
  {
   "cell_type": "code",
   "execution_count": 5,
   "metadata": {},
   "outputs": [
    {
     "data": {
      "text/plain": [
       "((30000, 24), (30000, 96))"
      ]
     },
     "execution_count": 5,
     "metadata": {},
     "output_type": "execute_result"
    }
   ],
   "source": [
    "miss_mask.shape, data.shape"
   ]
  },
  {
   "cell_type": "code",
   "execution_count": 6,
   "metadata": {},
   "outputs": [
    {
     "data": {
      "text/plain": [
       "(30000, 24)"
      ]
     },
     "execution_count": 6,
     "metadata": {},
     "output_type": "execute_result"
    }
   ],
   "source": [
    "raw_data.shape"
   ]
  },
  {
   "cell_type": "code",
   "execution_count": 7,
   "metadata": {},
   "outputs": [
    {
     "data": {
      "text/plain": [
       "15000.0"
      ]
     },
     "execution_count": 7,
     "metadata": {},
     "output_type": "execute_result"
    }
   ],
   "source": [
    "miss_mask[:, -1].sum()"
   ]
  },
  {
   "cell_type": "code",
   "execution_count": 8,
   "metadata": {},
   "outputs": [
    {
     "data": {
      "text/plain": [
       "[{'type': 'pos', 'dim': '1', 'nclass': ''},\n",
       " {'type': 'cat', 'dim': '3', 'nclass': '3'},\n",
       " {'type': 'cat', 'dim': '7', 'nclass': '7'},\n",
       " {'type': 'cat', 'dim': '4', 'nclass': '4'},\n",
       " {'type': 'count', 'dim': '1', 'nclass': ''},\n",
       " {'type': 'ordinal', 'dim': '11', 'nclass': '11'},\n",
       " {'type': 'ordinal', 'dim': '11', 'nclass': '11'},\n",
       " {'type': 'ordinal', 'dim': '11', 'nclass': '11'},\n",
       " {'type': 'ordinal', 'dim': '11', 'nclass': '11'},\n",
       " {'type': 'ordinal', 'dim': '11', 'nclass': '11'},\n",
       " {'type': 'ordinal', 'dim': '11', 'nclass': '11'},\n",
       " {'type': 'real', 'dim': '1', 'nclass': ''},\n",
       " {'type': 'real', 'dim': '1', 'nclass': ''},\n",
       " {'type': 'real', 'dim': '1', 'nclass': ''},\n",
       " {'type': 'real', 'dim': '1', 'nclass': ''},\n",
       " {'type': 'real', 'dim': '1', 'nclass': ''},\n",
       " {'type': 'real', 'dim': '1', 'nclass': ''},\n",
       " {'type': 'pos', 'dim': '1', 'nclass': ''},\n",
       " {'type': 'pos', 'dim': '1', 'nclass': ''},\n",
       " {'type': 'pos', 'dim': '1', 'nclass': ''},\n",
       " {'type': 'pos', 'dim': '1', 'nclass': ''},\n",
       " {'type': 'pos', 'dim': '1', 'nclass': ''},\n",
       " {'type': 'pos', 'dim': '1', 'nclass': ''},\n",
       " {'type': 'cat', 'dim': '2', 'nclass': '2'}]"
      ]
     },
     "execution_count": 8,
     "metadata": {},
     "output_type": "execute_result"
    }
   ],
   "source": [
    "types_dict"
   ]
  },
  {
   "cell_type": "code",
   "execution_count": 17,
   "metadata": {},
   "outputs": [
    {
     "data": {
      "text/html": [
       "<div>\n",
       "<style scoped>\n",
       "    .dataframe tbody tr th:only-of-type {\n",
       "        vertical-align: middle;\n",
       "    }\n",
       "\n",
       "    .dataframe tbody tr th {\n",
       "        vertical-align: top;\n",
       "    }\n",
       "\n",
       "    .dataframe thead th {\n",
       "        text-align: right;\n",
       "    }\n",
       "</style>\n",
       "<table border=\"1\" class=\"dataframe\">\n",
       "  <thead>\n",
       "    <tr style=\"text-align: right;\">\n",
       "      <th></th>\n",
       "      <th>0</th>\n",
       "      <th>1</th>\n",
       "      <th>2</th>\n",
       "      <th>3</th>\n",
       "      <th>4</th>\n",
       "      <th>5</th>\n",
       "      <th>6</th>\n",
       "      <th>7</th>\n",
       "      <th>8</th>\n",
       "      <th>9</th>\n",
       "      <th>...</th>\n",
       "      <th>86</th>\n",
       "      <th>87</th>\n",
       "      <th>88</th>\n",
       "      <th>89</th>\n",
       "      <th>90</th>\n",
       "      <th>91</th>\n",
       "      <th>92</th>\n",
       "      <th>93</th>\n",
       "      <th>94</th>\n",
       "      <th>95</th>\n",
       "    </tr>\n",
       "  </thead>\n",
       "  <tbody>\n",
       "    <tr>\n",
       "      <th>0</th>\n",
       "      <td>20000.0</td>\n",
       "      <td>0.0</td>\n",
       "      <td>1.0</td>\n",
       "      <td>0.0</td>\n",
       "      <td>0.0</td>\n",
       "      <td>0.0</td>\n",
       "      <td>1.0</td>\n",
       "      <td>0.0</td>\n",
       "      <td>0.0</td>\n",
       "      <td>0.0</td>\n",
       "      <td>...</td>\n",
       "      <td>0.0</td>\n",
       "      <td>0.0</td>\n",
       "      <td>0.0</td>\n",
       "      <td>689.0</td>\n",
       "      <td>0.0</td>\n",
       "      <td>0.0</td>\n",
       "      <td>0.0</td>\n",
       "      <td>0.0</td>\n",
       "      <td>0.0</td>\n",
       "      <td>1.0</td>\n",
       "    </tr>\n",
       "    <tr>\n",
       "      <th>1</th>\n",
       "      <td>120000.0</td>\n",
       "      <td>0.0</td>\n",
       "      <td>1.0</td>\n",
       "      <td>0.0</td>\n",
       "      <td>0.0</td>\n",
       "      <td>0.0</td>\n",
       "      <td>1.0</td>\n",
       "      <td>0.0</td>\n",
       "      <td>0.0</td>\n",
       "      <td>0.0</td>\n",
       "      <td>...</td>\n",
       "      <td>3455.0</td>\n",
       "      <td>3261.0</td>\n",
       "      <td>0.0</td>\n",
       "      <td>1000.0</td>\n",
       "      <td>1000.0</td>\n",
       "      <td>1000.0</td>\n",
       "      <td>0.0</td>\n",
       "      <td>2000.0</td>\n",
       "      <td>0.0</td>\n",
       "      <td>1.0</td>\n",
       "    </tr>\n",
       "    <tr>\n",
       "      <th>2</th>\n",
       "      <td>90000.0</td>\n",
       "      <td>0.0</td>\n",
       "      <td>1.0</td>\n",
       "      <td>0.0</td>\n",
       "      <td>0.0</td>\n",
       "      <td>0.0</td>\n",
       "      <td>1.0</td>\n",
       "      <td>0.0</td>\n",
       "      <td>0.0</td>\n",
       "      <td>0.0</td>\n",
       "      <td>...</td>\n",
       "      <td>14948.0</td>\n",
       "      <td>15549.0</td>\n",
       "      <td>1518.0</td>\n",
       "      <td>1500.0</td>\n",
       "      <td>1000.0</td>\n",
       "      <td>1000.0</td>\n",
       "      <td>1000.0</td>\n",
       "      <td>5000.0</td>\n",
       "      <td>1.0</td>\n",
       "      <td>0.0</td>\n",
       "    </tr>\n",
       "    <tr>\n",
       "      <th>3</th>\n",
       "      <td>50000.0</td>\n",
       "      <td>0.0</td>\n",
       "      <td>1.0</td>\n",
       "      <td>0.0</td>\n",
       "      <td>0.0</td>\n",
       "      <td>0.0</td>\n",
       "      <td>1.0</td>\n",
       "      <td>0.0</td>\n",
       "      <td>0.0</td>\n",
       "      <td>0.0</td>\n",
       "      <td>...</td>\n",
       "      <td>28959.0</td>\n",
       "      <td>29547.0</td>\n",
       "      <td>2000.0</td>\n",
       "      <td>2019.0</td>\n",
       "      <td>1200.0</td>\n",
       "      <td>1100.0</td>\n",
       "      <td>1069.0</td>\n",
       "      <td>1000.0</td>\n",
       "      <td>1.0</td>\n",
       "      <td>0.0</td>\n",
       "    </tr>\n",
       "    <tr>\n",
       "      <th>4</th>\n",
       "      <td>50000.0</td>\n",
       "      <td>1.0</td>\n",
       "      <td>0.0</td>\n",
       "      <td>0.0</td>\n",
       "      <td>0.0</td>\n",
       "      <td>0.0</td>\n",
       "      <td>1.0</td>\n",
       "      <td>0.0</td>\n",
       "      <td>0.0</td>\n",
       "      <td>0.0</td>\n",
       "      <td>...</td>\n",
       "      <td>19146.0</td>\n",
       "      <td>19131.0</td>\n",
       "      <td>2000.0</td>\n",
       "      <td>36681.0</td>\n",
       "      <td>10000.0</td>\n",
       "      <td>9000.0</td>\n",
       "      <td>689.0</td>\n",
       "      <td>679.0</td>\n",
       "      <td>1.0</td>\n",
       "      <td>0.0</td>\n",
       "    </tr>\n",
       "  </tbody>\n",
       "</table>\n",
       "<p>5 rows × 96 columns</p>\n",
       "</div>"
      ],
      "text/plain": [
       "         0    1    2    3    4    5    6    7    8    9   ...       86  \\\n",
       "0   20000.0  0.0  1.0  0.0  0.0  0.0  1.0  0.0  0.0  0.0  ...      0.0   \n",
       "1  120000.0  0.0  1.0  0.0  0.0  0.0  1.0  0.0  0.0  0.0  ...   3455.0   \n",
       "2   90000.0  0.0  1.0  0.0  0.0  0.0  1.0  0.0  0.0  0.0  ...  14948.0   \n",
       "3   50000.0  0.0  1.0  0.0  0.0  0.0  1.0  0.0  0.0  0.0  ...  28959.0   \n",
       "4   50000.0  1.0  0.0  0.0  0.0  0.0  1.0  0.0  0.0  0.0  ...  19146.0   \n",
       "\n",
       "        87      88       89       90      91      92      93   94   95  \n",
       "0      0.0     0.0    689.0      0.0     0.0     0.0     0.0  0.0  1.0  \n",
       "1   3261.0     0.0   1000.0   1000.0  1000.0     0.0  2000.0  0.0  1.0  \n",
       "2  15549.0  1518.0   1500.0   1000.0  1000.0  1000.0  5000.0  1.0  0.0  \n",
       "3  29547.0  2000.0   2019.0   1200.0  1100.0  1069.0  1000.0  1.0  0.0  \n",
       "4  19131.0  2000.0  36681.0  10000.0  9000.0   689.0   679.0  1.0  0.0  \n",
       "\n",
       "[5 rows x 96 columns]"
      ]
     },
     "execution_count": 17,
     "metadata": {},
     "output_type": "execute_result"
    }
   ],
   "source": [
    "df.head()"
   ]
  },
  {
   "cell_type": "code",
   "execution_count": 10,
   "metadata": {},
   "outputs": [],
   "source": [
    "path = '../Results/model_HIVAE_inputDropout_Wine_Missing10-50_1_z2_y5_s10_batch100/model_HIVAE_inputDropout_Wine_Missing10-50_1_z2_y5_s10_batch100_data'\n",
    "\n",
    "dt = np.array(pd.read_csv(path + '_true.csv', header=None))\n",
    "dr = np.array(pd.read_csv(path + '_reconstruction.csv', header=None))"
   ]
  },
  {
   "cell_type": "code",
   "execution_count": 12,
   "metadata": {},
   "outputs": [],
   "source": [
    "dft = pd.DataFrame(dt)"
   ]
  },
  {
   "cell_type": "code",
   "execution_count": 18,
   "metadata": {},
   "outputs": [
    {
     "data": {
      "text/html": [
       "<div>\n",
       "<style scoped>\n",
       "    .dataframe tbody tr th:only-of-type {\n",
       "        vertical-align: middle;\n",
       "    }\n",
       "\n",
       "    .dataframe tbody tr th {\n",
       "        vertical-align: top;\n",
       "    }\n",
       "\n",
       "    .dataframe thead th {\n",
       "        text-align: right;\n",
       "    }\n",
       "</style>\n",
       "<table border=\"1\" class=\"dataframe\">\n",
       "  <thead>\n",
       "    <tr style=\"text-align: right;\">\n",
       "      <th></th>\n",
       "      <th>0</th>\n",
       "      <th>1</th>\n",
       "      <th>2</th>\n",
       "      <th>3</th>\n",
       "      <th>4</th>\n",
       "      <th>5</th>\n",
       "      <th>6</th>\n",
       "      <th>7</th>\n",
       "      <th>8</th>\n",
       "      <th>9</th>\n",
       "      <th>10</th>\n",
       "      <th>11</th>\n",
       "      <th>12</th>\n",
       "    </tr>\n",
       "  </thead>\n",
       "  <tbody>\n",
       "    <tr>\n",
       "      <th>0</th>\n",
       "      <td>7.0</td>\n",
       "      <td>0.27</td>\n",
       "      <td>0.36</td>\n",
       "      <td>20.7</td>\n",
       "      <td>0.045</td>\n",
       "      <td>45.0</td>\n",
       "      <td>170.0</td>\n",
       "      <td>1.0010</td>\n",
       "      <td>3.00</td>\n",
       "      <td>0.45</td>\n",
       "      <td>8.8</td>\n",
       "      <td>6.0</td>\n",
       "      <td>1.0</td>\n",
       "    </tr>\n",
       "    <tr>\n",
       "      <th>1</th>\n",
       "      <td>6.3</td>\n",
       "      <td>0.30</td>\n",
       "      <td>0.34</td>\n",
       "      <td>1.6</td>\n",
       "      <td>0.049</td>\n",
       "      <td>14.0</td>\n",
       "      <td>132.0</td>\n",
       "      <td>0.9940</td>\n",
       "      <td>3.30</td>\n",
       "      <td>0.49</td>\n",
       "      <td>9.5</td>\n",
       "      <td>6.0</td>\n",
       "      <td>1.0</td>\n",
       "    </tr>\n",
       "    <tr>\n",
       "      <th>2</th>\n",
       "      <td>8.1</td>\n",
       "      <td>0.28</td>\n",
       "      <td>0.40</td>\n",
       "      <td>6.9</td>\n",
       "      <td>0.050</td>\n",
       "      <td>30.0</td>\n",
       "      <td>97.0</td>\n",
       "      <td>0.9951</td>\n",
       "      <td>3.26</td>\n",
       "      <td>0.44</td>\n",
       "      <td>10.1</td>\n",
       "      <td>6.0</td>\n",
       "      <td>1.0</td>\n",
       "    </tr>\n",
       "    <tr>\n",
       "      <th>3</th>\n",
       "      <td>7.2</td>\n",
       "      <td>0.23</td>\n",
       "      <td>0.32</td>\n",
       "      <td>8.5</td>\n",
       "      <td>0.058</td>\n",
       "      <td>47.0</td>\n",
       "      <td>186.0</td>\n",
       "      <td>0.9956</td>\n",
       "      <td>3.19</td>\n",
       "      <td>0.40</td>\n",
       "      <td>9.9</td>\n",
       "      <td>6.0</td>\n",
       "      <td>1.0</td>\n",
       "    </tr>\n",
       "    <tr>\n",
       "      <th>4</th>\n",
       "      <td>7.2</td>\n",
       "      <td>0.23</td>\n",
       "      <td>0.32</td>\n",
       "      <td>8.5</td>\n",
       "      <td>0.058</td>\n",
       "      <td>47.0</td>\n",
       "      <td>186.0</td>\n",
       "      <td>0.9956</td>\n",
       "      <td>3.19</td>\n",
       "      <td>0.40</td>\n",
       "      <td>9.9</td>\n",
       "      <td>6.0</td>\n",
       "      <td>1.0</td>\n",
       "    </tr>\n",
       "  </tbody>\n",
       "</table>\n",
       "</div>"
      ],
      "text/plain": [
       "    0     1     2     3      4     5      6       7     8     9     10   11  \\\n",
       "0  7.0  0.27  0.36  20.7  0.045  45.0  170.0  1.0010  3.00  0.45   8.8  6.0   \n",
       "1  6.3  0.30  0.34   1.6  0.049  14.0  132.0  0.9940  3.30  0.49   9.5  6.0   \n",
       "2  8.1  0.28  0.40   6.9  0.050  30.0   97.0  0.9951  3.26  0.44  10.1  6.0   \n",
       "3  7.2  0.23  0.32   8.5  0.058  47.0  186.0  0.9956  3.19  0.40   9.9  6.0   \n",
       "4  7.2  0.23  0.32   8.5  0.058  47.0  186.0  0.9956  3.19  0.40   9.9  6.0   \n",
       "\n",
       "    12  \n",
       "0  1.0  \n",
       "1  1.0  \n",
       "2  1.0  \n",
       "3  1.0  \n",
       "4  1.0  "
      ]
     },
     "execution_count": 18,
     "metadata": {},
     "output_type": "execute_result"
    }
   ],
   "source": [
    "dft.head()"
   ]
  },
  {
   "cell_type": "code",
   "execution_count": 19,
   "metadata": {},
   "outputs": [],
   "source": [
    "dfr = pd.DataFrame(dr)"
   ]
  },
  {
   "cell_type": "code",
   "execution_count": 20,
   "metadata": {},
   "outputs": [
    {
     "data": {
      "text/html": [
       "<div>\n",
       "<style scoped>\n",
       "    .dataframe tbody tr th:only-of-type {\n",
       "        vertical-align: middle;\n",
       "    }\n",
       "\n",
       "    .dataframe tbody tr th {\n",
       "        vertical-align: top;\n",
       "    }\n",
       "\n",
       "    .dataframe thead th {\n",
       "        text-align: right;\n",
       "    }\n",
       "</style>\n",
       "<table border=\"1\" class=\"dataframe\">\n",
       "  <thead>\n",
       "    <tr style=\"text-align: right;\">\n",
       "      <th></th>\n",
       "      <th>0</th>\n",
       "      <th>1</th>\n",
       "      <th>2</th>\n",
       "      <th>3</th>\n",
       "      <th>4</th>\n",
       "      <th>5</th>\n",
       "      <th>6</th>\n",
       "      <th>7</th>\n",
       "      <th>8</th>\n",
       "      <th>9</th>\n",
       "      <th>10</th>\n",
       "      <th>11</th>\n",
       "      <th>12</th>\n",
       "    </tr>\n",
       "  </thead>\n",
       "  <tbody>\n",
       "    <tr>\n",
       "      <th>0</th>\n",
       "      <td>7.36</td>\n",
       "      <td>0.27</td>\n",
       "      <td>0.36</td>\n",
       "      <td>20.7</td>\n",
       "      <td>0.045</td>\n",
       "      <td>45.000</td>\n",
       "      <td>170.0</td>\n",
       "      <td>1.0010</td>\n",
       "      <td>3.000</td>\n",
       "      <td>0.45</td>\n",
       "      <td>8.8</td>\n",
       "      <td>6.0</td>\n",
       "      <td>1.0</td>\n",
       "    </tr>\n",
       "    <tr>\n",
       "      <th>1</th>\n",
       "      <td>6.30</td>\n",
       "      <td>0.30</td>\n",
       "      <td>0.34</td>\n",
       "      <td>1.6</td>\n",
       "      <td>0.043</td>\n",
       "      <td>14.000</td>\n",
       "      <td>132.0</td>\n",
       "      <td>0.9930</td>\n",
       "      <td>3.300</td>\n",
       "      <td>0.49</td>\n",
       "      <td>9.5</td>\n",
       "      <td>6.0</td>\n",
       "      <td>1.0</td>\n",
       "    </tr>\n",
       "    <tr>\n",
       "      <th>2</th>\n",
       "      <td>8.10</td>\n",
       "      <td>0.28</td>\n",
       "      <td>0.40</td>\n",
       "      <td>6.9</td>\n",
       "      <td>0.050</td>\n",
       "      <td>30.000</td>\n",
       "      <td>97.0</td>\n",
       "      <td>0.9970</td>\n",
       "      <td>3.260</td>\n",
       "      <td>0.44</td>\n",
       "      <td>10.1</td>\n",
       "      <td>6.0</td>\n",
       "      <td>1.0</td>\n",
       "    </tr>\n",
       "    <tr>\n",
       "      <th>3</th>\n",
       "      <td>7.20</td>\n",
       "      <td>0.23</td>\n",
       "      <td>0.32</td>\n",
       "      <td>8.5</td>\n",
       "      <td>0.058</td>\n",
       "      <td>47.000</td>\n",
       "      <td>186.0</td>\n",
       "      <td>0.9956</td>\n",
       "      <td>3.190</td>\n",
       "      <td>0.40</td>\n",
       "      <td>9.9</td>\n",
       "      <td>6.0</td>\n",
       "      <td>1.0</td>\n",
       "    </tr>\n",
       "    <tr>\n",
       "      <th>4</th>\n",
       "      <td>7.20</td>\n",
       "      <td>0.23</td>\n",
       "      <td>0.32</td>\n",
       "      <td>8.5</td>\n",
       "      <td>0.058</td>\n",
       "      <td>32.426</td>\n",
       "      <td>186.0</td>\n",
       "      <td>0.9956</td>\n",
       "      <td>3.155</td>\n",
       "      <td>0.40</td>\n",
       "      <td>9.9</td>\n",
       "      <td>6.0</td>\n",
       "      <td>1.0</td>\n",
       "    </tr>\n",
       "  </tbody>\n",
       "</table>\n",
       "</div>"
      ],
      "text/plain": [
       "     0     1     2     3      4       5      6       7      8     9     10  \\\n",
       "0  7.36  0.27  0.36  20.7  0.045  45.000  170.0  1.0010  3.000  0.45   8.8   \n",
       "1  6.30  0.30  0.34   1.6  0.043  14.000  132.0  0.9930  3.300  0.49   9.5   \n",
       "2  8.10  0.28  0.40   6.9  0.050  30.000   97.0  0.9970  3.260  0.44  10.1   \n",
       "3  7.20  0.23  0.32   8.5  0.058  47.000  186.0  0.9956  3.190  0.40   9.9   \n",
       "4  7.20  0.23  0.32   8.5  0.058  32.426  186.0  0.9956  3.155  0.40   9.9   \n",
       "\n",
       "    11   12  \n",
       "0  6.0  1.0  \n",
       "1  6.0  1.0  \n",
       "2  6.0  1.0  \n",
       "3  6.0  1.0  \n",
       "4  6.0  1.0  "
      ]
     },
     "execution_count": 20,
     "metadata": {},
     "output_type": "execute_result"
    }
   ],
   "source": [
    "dfr.head()"
   ]
  },
  {
   "cell_type": "code",
   "execution_count": 77,
   "metadata": {},
   "outputs": [],
   "source": [
    "dt_norm = dt / np.linalg.norm(dt)\n",
    "dr_norm = dr / np.linalg.norm(dr)\n",
    "req_loss = dt_norm - dr_norm"
   ]
  },
  {
   "cell_type": "code",
   "execution_count": 78,
   "metadata": {},
   "outputs": [
    {
     "data": {
      "text/plain": [
       "0.10093097579787809"
      ]
     },
     "execution_count": 78,
     "metadata": {},
     "output_type": "execute_result"
    }
   ],
   "source": [
    "np.linalg.norm(req_loss)"
   ]
  },
  {
   "cell_type": "code",
   "execution_count": 25,
   "metadata": {},
   "outputs": [
    {
     "data": {
      "text/plain": [
       "0.015699553640141604"
      ]
     },
     "execution_count": 25,
     "metadata": {},
     "output_type": "execute_result"
    }
   ],
   "source": [
    "np.sum(np.abs(dt[:,-1] - dr[:,-1]))/dt.shape[0]"
   ]
  },
  {
   "cell_type": "code",
   "execution_count": 81,
   "metadata": {},
   "outputs": [],
   "source": [
    "path = '../Results_csv/model_HIVAE_inputDropout_Wine_Missing10-50_1_z2_y5_s10_batch100/model_HIVAE_inputDropout_Wine_Missing10-50_1_z2_y5_s10_batch100'\n",
    "\n",
    "tre = np.array(pd.read_csv(path + '_train_error.csv', header=None))\n",
    "tee = np.array(pd.read_csv(path + '_test_error.csv', header=None))"
   ]
  },
  {
   "cell_type": "code",
   "execution_count": 95,
   "metadata": {},
   "outputs": [],
   "source": [
    "path = '../Results_test_csv/model_HIVAE_inputDropout_Wine_Missing10-50_1_z2_y5_s10_batch100/model_HIVAE_inputDropout_Wine_Missing10-50_1_z2_y5_s10_batch100'\n",
    "\n",
    "test_tre = np.array(pd.read_csv(path + '_train_error.csv', header=None))\n",
    "test_tee = np.array(pd.read_csv(path + '_test_error.csv', header=None))"
   ]
  },
  {
   "cell_type": "code",
   "execution_count": 85,
   "metadata": {},
   "outputs": [],
   "source": [
    "import matplotlib.pyplot as plt"
   ]
  },
  {
   "cell_type": "code",
   "execution_count": 110,
   "metadata": {},
   "outputs": [
    {
     "data": {
      "image/png": "[encoded data removed]",
      "text/plain": [
       "<Figure size 432x288 with 1 Axes>"
      ]
     },
     "metadata": {
      "needs_background": "light"
     },
     "output_type": "display_data"
    }
   ],
   "source": [
    "plt.plot(tre.mean(1), label='Observed')\n",
    "plt.plot(tee.mean(1), label='Missing')\n",
    "plt.title('Mean train error on observed and missing data')\n",
    "plt.legend()\n",
    "plt.ylabel('Error')\n",
    "plt.xlabel('Epochs');"
   ]
  },
  {
   "cell_type": "code",
   "execution_count": 113,
   "metadata": {},
   "outputs": [
    {
     "name": "stdout",
     "output_type": "stream",
     "text": [
      "At final epoch:\n",
      "   Mean train error on observed data: 0.06685086269063642\n",
      "   Mean train error on missing data: 0.08056757746020328\n"
     ]
    }
   ],
   "source": [
    "print('At final epoch:')\n",
    "print('   Mean train error on observed data:', tre[-1,:].mean())\n",
    "print('   Mean train error on missing data:', tee[-1,:].mean())"
   ]
  },
  {
   "cell_type": "code",
   "execution_count": 112,
   "metadata": {},
   "outputs": [
    {
     "name": "stdout",
     "output_type": "stream",
     "text": [
      "Mean test error on observed data: 0.0669244365487943\n",
      "Mean test error on missing data: 0.07974516545425575\n"
     ]
    }
   ],
   "source": [
    "print('Mean test error on observed data:', test_tre.mean())\n",
    "print('Mean test error on missing data:', test_tee.mean())"
   ]
  },
  {
   "cell_type": "code",
   "execution_count": 124,
   "metadata": {},
   "outputs": [],
   "source": [
    "A = np.random.randint(2, size=(4000, 4100))"
   ]
  },
  {
   "cell_type": "code",
   "execution_count": null,
   "metadata": {},
   "outputs": [],
   "source": []
  }
 ],
 "metadata": {
  "kernelspec": {
   "display_name": "Python 3",
   "language": "python",
   "name": "python3"
  },
  "language_info": {
   "codemirror_mode": {
    "name": "ipython",
    "version": 3
   },
   "file_extension": ".py",
   "mimetype": "text/x-python",
   "name": "python",
   "nbconvert_exporter": "python",
   "pygments_lexer": "ipython3",
   "version": "3.6.8"
  }
 },
 "nbformat": 4,
 "nbformat_minor": 2
}
